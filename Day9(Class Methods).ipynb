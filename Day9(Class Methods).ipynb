{
 "cells": [
  {
   "cell_type": "code",
   "execution_count": 1,
   "id": "2a680641-b7d8-40cb-be74-2e2b2f586fa0",
   "metadata": {},
   "outputs": [],
   "source": [
    "class pwskills:\n",
    "    def __init__(self, name, email):\n",
    "        \n",
    "        self.name = name\n",
    "        self.email = email\n",
    "        \n",
    "    def student_details(self):\n",
    "        print(self.name, self.email)"
   ]
  },
  {
   "cell_type": "code",
   "execution_count": 2,
   "id": "26ffe2ed-ed5c-42ec-b404-ec0fe86dbbc3",
   "metadata": {},
   "outputs": [],
   "source": [
    "pw = pwskills(\"sk\",\"sk@gmail.com\")"
   ]
  },
  {
   "cell_type": "code",
   "execution_count": 6,
   "id": "360844d3-8d76-4374-b5d8-7700c69e2357",
   "metadata": {},
   "outputs": [
    {
     "data": {
      "text/plain": [
       "'sk@gmail.com'"
      ]
     },
     "execution_count": 6,
     "metadata": {},
     "output_type": "execute_result"
    }
   ],
   "source": [
    "pw.email"
   ]
  },
  {
   "cell_type": "code",
   "execution_count": 11,
   "id": "20cafee1-b6f8-4174-bf6c-bd53d9b2c76f",
   "metadata": {},
   "outputs": [],
   "source": [
    "class pwskills1:\n",
    "    def __init__(self, name, email):\n",
    "        \n",
    "        self.name = name\n",
    "        self.email = email\n",
    "        \n",
    "    @classmethod\n",
    "    def details(cls, name, email):\n",
    "        return cls(name, email)\n",
    "        \n",
    "    def student_details(self):\n",
    "        print(self.name, self.email)"
   ]
  },
  {
   "cell_type": "code",
   "execution_count": 13,
   "id": "34a2eee0-5ce5-46ce-b155-05bed96f4bbf",
   "metadata": {},
   "outputs": [],
   "source": [
    "pw1 = pwskills1.details(\"sk\", \"sk7@gmail.com\")"
   ]
  },
  {
   "cell_type": "code",
   "execution_count": 18,
   "id": "4e01544d-2496-4731-9fdf-dc9b93c39572",
   "metadata": {},
   "outputs": [
    {
     "data": {
      "text/plain": [
       "'sk'"
      ]
     },
     "execution_count": 18,
     "metadata": {},
     "output_type": "execute_result"
    }
   ],
   "source": [
    "pw1.name"
   ]
  },
  {
   "cell_type": "code",
   "execution_count": 19,
   "id": "ebbd95af-4632-4bf8-be23-76f8a6662ed0",
   "metadata": {},
   "outputs": [
    {
     "data": {
      "text/plain": [
       "'sk7@gmail.com'"
      ]
     },
     "execution_count": 19,
     "metadata": {},
     "output_type": "execute_result"
    }
   ],
   "source": [
    "pw1.email"
   ]
  },
  {
   "cell_type": "code",
   "execution_count": 20,
   "id": "f6df6b3a-a8c9-4a77-8195-7e472b42e318",
   "metadata": {},
   "outputs": [
    {
     "name": "stdout",
     "output_type": "stream",
     "text": [
      "sk sk7@gmail.com\n"
     ]
    }
   ],
   "source": [
    "pw1.student_details()"
   ]
  },
  {
   "cell_type": "code",
   "execution_count": 32,
   "id": "1c4c096e-8322-4ffa-8ac3-c99a7b38ab75",
   "metadata": {},
   "outputs": [],
   "source": [
    "class pwskills2:\n",
    "    \n",
    "    mobile_number = 9872991839\n",
    "    \n",
    "    def __init__(self, name, email):\n",
    "        \n",
    "        self.name = name\n",
    "        self.email = email\n",
    "    \n",
    "    \n",
    "    @classmethod\n",
    "    def change_number(cls, mobile):\n",
    "        pwskills2.mobile_number = mobile\n",
    "    @classmethod\n",
    "    def details(cls, name, email):\n",
    "        return cls(name, email)\n",
    "        \n",
    "    def student_details(self):\n",
    "        print(self.name, self.email, pwskills2.mobile_number)"
   ]
  },
  {
   "cell_type": "code",
   "execution_count": 38,
   "id": "7d1004cb-6b51-4978-95c8-253c8a8839c4",
   "metadata": {},
   "outputs": [
    {
     "data": {
      "text/plain": [
       "9872991839"
      ]
     },
     "execution_count": 38,
     "metadata": {},
     "output_type": "execute_result"
    }
   ],
   "source": [
    "pwskills2.mobile_number"
   ]
  },
  {
   "cell_type": "code",
   "execution_count": 39,
   "id": "dd985d84-b510-40ae-9174-1912808c875f",
   "metadata": {},
   "outputs": [],
   "source": [
    "pwskills2.change_number(9234456621)"
   ]
  },
  {
   "cell_type": "code",
   "execution_count": 40,
   "id": "f77e16aa-530a-4a3f-883d-2995492db548",
   "metadata": {},
   "outputs": [
    {
     "data": {
      "text/plain": [
       "9234456621"
      ]
     },
     "execution_count": 40,
     "metadata": {},
     "output_type": "execute_result"
    }
   ],
   "source": [
    "pwskills2.mobile_number"
   ]
  },
  {
   "cell_type": "code",
   "execution_count": 34,
   "id": "932a95e3-8f43-4053-85c6-200a58c00eb0",
   "metadata": {},
   "outputs": [],
   "source": [
    "pw2 = pwskills2.details(\"sohan\",\"sohan@gmail.com\")"
   ]
  },
  {
   "cell_type": "code",
   "execution_count": 35,
   "id": "6b3cb1f7-303b-4806-b194-add3e1c73c7e",
   "metadata": {},
   "outputs": [
    {
     "name": "stdout",
     "output_type": "stream",
     "text": [
      "sohan sohan@gmail.com 9872991839\n"
     ]
    }
   ],
   "source": [
    "pw2.student_details()"
   ]
  },
  {
   "cell_type": "code",
   "execution_count": 36,
   "id": "b3f58964-65e0-4ab6-861a-bd405cf09628",
   "metadata": {},
   "outputs": [],
   "source": [
    "pw2_obj = pwskills2(\"rohan\", \"rohan@gmail.com\")"
   ]
  },
  {
   "cell_type": "code",
   "execution_count": 37,
   "id": "b846cc91-8025-429b-abc1-044176f2ff2f",
   "metadata": {},
   "outputs": [
    {
     "name": "stdout",
     "output_type": "stream",
     "text": [
      "rohan rohan@gmail.com 9872991839\n"
     ]
    }
   ],
   "source": [
    "pw2_obj.student_details()"
   ]
  },
  {
   "cell_type": "code",
   "execution_count": 42,
   "id": "cd360efc-d2f2-4f86-93d0-538cb6238253",
   "metadata": {},
   "outputs": [],
   "source": [
    "class pwskills3:\n",
    "    \n",
    "    mobile_number = 9872991839\n",
    "    \n",
    "    def __init__(self, name, email):\n",
    "        \n",
    "        self.name = name\n",
    "        self.email = email\n",
    "    \n",
    "    \n",
    "    @classmethod\n",
    "    def change_number(cls, mobile):\n",
    "        pwskills2.mobile_number = mobile\n",
    "    @classmethod\n",
    "    def details(cls, name, email):\n",
    "        return cls(name, email)\n",
    "        \n",
    "    def student_details(self):\n",
    "        print(self.name, self.email, pwskills2.mobile_number)"
   ]
  },
  {
   "cell_type": "code",
   "execution_count": 44,
   "id": "5622b9dd-9a09-49c4-8d81-72eed63d30ed",
   "metadata": {},
   "outputs": [],
   "source": [
    "def course_details(cls, course_name):\n",
    "    print(\"course details\", course_name)"
   ]
  },
  {
   "cell_type": "code",
   "execution_count": 45,
   "id": "1bd607a6-a230-4223-861e-f2d08199f5fe",
   "metadata": {},
   "outputs": [],
   "source": [
    "pwskills3.course_details = classmethod(course_details)"
   ]
  },
  {
   "cell_type": "code",
   "execution_count": 46,
   "id": "49bf0314-3ce2-408c-97b9-22d0cf05e935",
   "metadata": {},
   "outputs": [
    {
     "name": "stdout",
     "output_type": "stream",
     "text": [
      "course details data science masters\n"
     ]
    }
   ],
   "source": [
    "pwskills3.course_details(\"data science masters\")"
   ]
  },
  {
   "cell_type": "code",
   "execution_count": 47,
   "id": "1f2426b4-670a-49c0-b1d3-1c0d1f2174b8",
   "metadata": {},
   "outputs": [],
   "source": [
    "pw3 = pwskills3(\"sk\",\"sk@gmail.com\")"
   ]
  },
  {
   "cell_type": "code",
   "execution_count": 48,
   "id": "79342b14-244b-4e6c-a14d-054b07356e95",
   "metadata": {},
   "outputs": [
    {
     "name": "stdout",
     "output_type": "stream",
     "text": [
      "course details web dev\n"
     ]
    }
   ],
   "source": [
    "pw3.course_details(\"web dev\")"
   ]
  },
  {
   "cell_type": "code",
   "execution_count": 50,
   "id": "459af273-9499-48d8-be97-d3b8a9fcefb1",
   "metadata": {},
   "outputs": [],
   "source": [
    "del pwskills3.change_number"
   ]
  },
  {
   "cell_type": "code",
   "execution_count": 51,
   "id": "197f2969-eec9-4e7b-bf43-84b8e8132580",
   "metadata": {},
   "outputs": [],
   "source": [
    "delattr(pwskills3, \"details\")"
   ]
  },
  {
   "cell_type": "code",
   "execution_count": 52,
   "id": "17493bc5-1330-4d13-a75a-f79622900bba",
   "metadata": {},
   "outputs": [
    {
     "data": {
      "text/plain": [
       "9872991839"
      ]
     },
     "execution_count": 52,
     "metadata": {},
     "output_type": "execute_result"
    }
   ],
   "source": [
    "pwskills3.mobile_number"
   ]
  },
  {
   "cell_type": "code",
   "execution_count": 53,
   "id": "47144cd1-fda9-4b52-be46-3e853b050593",
   "metadata": {},
   "outputs": [],
   "source": [
    "delattr(pwskills3, \"mobile_number\")"
   ]
  },
  {
   "cell_type": "code",
   "execution_count": 54,
   "id": "20f0635b-55c0-45d9-a0f8-a2eeb7230fc7",
   "metadata": {},
   "outputs": [
    {
     "ename": "AttributeError",
     "evalue": "type object 'pwskills3' has no attribute 'mobile_number'",
     "output_type": "error",
     "traceback": [
      "\u001b[0;31m---------------------------------------------------------------------------\u001b[0m",
      "\u001b[0;31mAttributeError\u001b[0m                            Traceback (most recent call last)",
      "Cell \u001b[0;32mIn[54], line 1\u001b[0m\n\u001b[0;32m----> 1\u001b[0m \u001b[43mpwskills3\u001b[49m\u001b[38;5;241;43m.\u001b[39;49m\u001b[43mmobile_number\u001b[49m\n",
      "\u001b[0;31mAttributeError\u001b[0m: type object 'pwskills3' has no attribute 'mobile_number'"
     ]
    }
   ],
   "source": [
    "pwskills3.mobile_number"
   ]
  },
  {
   "cell_type": "code",
   "execution_count": null,
   "id": "d471b44b-f7b0-4237-9897-0692c2c9e7b6",
   "metadata": {},
   "outputs": [],
   "source": []
  }
 ],
 "metadata": {
  "kernelspec": {
   "display_name": "Python 3 (ipykernel)",
   "language": "python",
   "name": "python3"
  },
  "language_info": {
   "codemirror_mode": {
    "name": "ipython",
    "version": 3
   },
   "file_extension": ".py",
   "mimetype": "text/x-python",
   "name": "python",
   "nbconvert_exporter": "python",
   "pygments_lexer": "ipython3",
   "version": "3.10.8"
  }
 },
 "nbformat": 4,
 "nbformat_minor": 5
}
