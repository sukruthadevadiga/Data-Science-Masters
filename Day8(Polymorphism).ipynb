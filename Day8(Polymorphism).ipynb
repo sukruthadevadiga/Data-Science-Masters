{
 "cells": [
  {
   "cell_type": "code",
   "execution_count": 9,
   "id": "5cd46ca8-3cd7-474f-926b-94e3295c9e61",
   "metadata": {},
   "outputs": [],
   "source": [
    "class data_science:\n",
    "    def syllabus(self):\n",
    "        print(\"this is my method for data science syllabus\")"
   ]
  },
  {
   "cell_type": "code",
   "execution_count": 10,
   "id": "f6977a54-d300-463c-bd33-f5403ed0b6e1",
   "metadata": {},
   "outputs": [],
   "source": [
    "class web_dev:\n",
    "    def syllabus(self):\n",
    "        print(\"this is my method for data web_dev\")"
   ]
  },
  {
   "cell_type": "code",
   "execution_count": 11,
   "id": "06e81bcc-c587-493c-9311-75358c4f4ed3",
   "metadata": {},
   "outputs": [],
   "source": [
    "def class_parcer(class_obj):\n",
    "    for i in class_obj:\n",
    "        i.syllabus()"
   ]
  },
  {
   "cell_type": "code",
   "execution_count": 16,
   "id": "6ebbfd1b-21a0-401c-8019-d4d3e3a1cf19",
   "metadata": {},
   "outputs": [],
   "source": [
    "obj_data_science = data_science()"
   ]
  },
  {
   "cell_type": "code",
   "execution_count": 17,
   "id": "48ee1ef7-b614-4357-86c7-533e90b10e3d",
   "metadata": {},
   "outputs": [],
   "source": [
    "obj_web_dev = web_dev()"
   ]
  },
  {
   "cell_type": "code",
   "execution_count": 18,
   "id": "152c8849-1469-4427-b993-263add8dc8da",
   "metadata": {},
   "outputs": [],
   "source": [
    "class_obj = [obj_data_science, obj_web_dev]"
   ]
  },
  {
   "cell_type": "code",
   "execution_count": 19,
   "id": "161ce31c-b0bb-4312-b2e8-39c7758b36b7",
   "metadata": {},
   "outputs": [
    {
     "name": "stdout",
     "output_type": "stream",
     "text": [
      "this is my method for data science syllabus\n",
      "this is my method for data web_dev\n"
     ]
    }
   ],
   "source": [
    "class_parcer(class_obj)"
   ]
  },
  {
   "cell_type": "code",
   "execution_count": 20,
   "id": "9732ef83-9b35-4741-9ad6-c9eb989e6e8d",
   "metadata": {},
   "outputs": [],
   "source": [
    "#here i.syllabus behaves differently for both the classes. this is the phenomena of polymorphism"
   ]
  },
  {
   "cell_type": "code",
   "execution_count": null,
   "id": "7077c12e-35b1-42e7-b25c-da004bedf744",
   "metadata": {},
   "outputs": [],
   "source": []
  }
 ],
 "metadata": {
  "kernelspec": {
   "display_name": "Python 3 (ipykernel)",
   "language": "python",
   "name": "python3"
  },
  "language_info": {
   "codemirror_mode": {
    "name": "ipython",
    "version": 3
   },
   "file_extension": ".py",
   "mimetype": "text/x-python",
   "name": "python",
   "nbconvert_exporter": "python",
   "pygments_lexer": "ipython3",
   "version": "3.10.8"
  }
 },
 "nbformat": 4,
 "nbformat_minor": 5
}
