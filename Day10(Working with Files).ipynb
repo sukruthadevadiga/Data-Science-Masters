{
 "cells": [
  {
   "cell_type": "code",
   "execution_count": 1,
   "id": "5434335d-2f57-44f4-ac6b-19b4162ea4af",
   "metadata": {},
   "outputs": [],
   "source": [
    "f = open(\"test.txt\", 'w' )"
   ]
  },
  {
   "cell_type": "code",
   "execution_count": 2,
   "id": "3e88c139-7934-43d4-986a-fe0dd946b994",
   "metadata": {},
   "outputs": [
    {
     "data": {
      "text/plain": [
       "'/home/jovyan/work'"
      ]
     },
     "execution_count": 2,
     "metadata": {},
     "output_type": "execute_result"
    }
   ],
   "source": [
    "pwd"
   ]
  },
  {
   "cell_type": "code",
   "execution_count": 3,
   "id": "77337cf5-502f-4507-aec3-231b6ac7baf2",
   "metadata": {},
   "outputs": [
    {
     "name": "stdout",
     "output_type": "stream",
     "text": [
      "'02-Feb Assignment Solutions.ipynb'\n",
      "'03-Feb Assignments.ipynb'\n",
      "'04-Feb Assignments.ipynb'\n",
      "'05-Assignment Solutions.ipynb'\n",
      "'06-Assignments Solutions.ipynb'\n",
      " Assignmnet2.ipynb\n",
      "'DataScience Quiz.ipynb'\n",
      "'Day10(Files).ipynb'\n",
      "'Day1- Data science masters'\n",
      "'Day2- Data Science Masters.ipynb'\n",
      "'Day3_Data Science.ipynb'\n",
      "'Day4- Data Sciene.ipynb'\n",
      "'Day5 - Data Science Masters(Functions).ipynb'\n",
      "'Day6- Data Science Masters.ipynb'\n",
      "'Day7- Data Science(OOPS).ipynb'\n",
      "'Day8(Abstraction).ipynb'\n",
      "'Day8(Encapsulation).ipynb'\n",
      "'Day8(Inheritance).ipynb'\n",
      "'Day8(Polymorphism).ipynb'\n",
      "'Day9(Class Methods).ipynb'\n",
      "'Day9(Decorators).ipynb'\n",
      "'Day9(Magic OR Dunder).ipynb'\n",
      "'Day9(Property Decorators Getters, Setters, And Deletes).ipynb'\n",
      "'Day9(Static Methods).ipynb'\n",
      " README.md\n",
      " sample-code.ipynb\n",
      " \u001b[0m\u001b[01;34mtest\u001b[0m/\n",
      " test.txt\n",
      " Untitled1.ipynb\n",
      " Untitled2.ipynb\n",
      " Untitled3.ipynb\n",
      " Untitled.ipynb\n"
     ]
    }
   ],
   "source": [
    "ls"
   ]
  },
  {
   "cell_type": "code",
   "execution_count": 4,
   "id": "becfba87-83e8-4f65-b33f-7baa52c5034b",
   "metadata": {},
   "outputs": [
    {
     "data": {
      "text/plain": [
       "44"
      ]
     },
     "execution_count": 4,
     "metadata": {},
     "output_type": "execute_result"
    }
   ],
   "source": [
    "f.write(\"this is my first write operation in the file\")"
   ]
  },
  {
   "cell_type": "code",
   "execution_count": 6,
   "id": "e908157e-127e-4b58-8f02-983e8a20cc8d",
   "metadata": {},
   "outputs": [],
   "source": [
    "f.close()"
   ]
  },
  {
   "cell_type": "code",
   "execution_count": 7,
   "id": "f2ce8466-a7b1-49f5-8288-73453a9f0fb7",
   "metadata": {},
   "outputs": [],
   "source": [
    "data = open(\"test.txt\", 'r')"
   ]
  },
  {
   "cell_type": "code",
   "execution_count": 8,
   "id": "afbad705-9667-413f-85b4-957ff2b14967",
   "metadata": {},
   "outputs": [
    {
     "data": {
      "text/plain": [
       "'this is my first write operation in the file'"
      ]
     },
     "execution_count": 8,
     "metadata": {},
     "output_type": "execute_result"
    }
   ],
   "source": [
    "data.read()"
   ]
  },
  {
   "cell_type": "code",
   "execution_count": 9,
   "id": "bf5818e6-b98f-4b53-85ac-7109b0f697a7",
   "metadata": {},
   "outputs": [
    {
     "data": {
      "text/plain": [
       "''"
      ]
     },
     "execution_count": 9,
     "metadata": {},
     "output_type": "execute_result"
    }
   ],
   "source": [
    "data.read()"
   ]
  },
  {
   "cell_type": "code",
   "execution_count": 11,
   "id": "757c8d12-44d3-443e-b6b9-1ca555ce0f10",
   "metadata": {},
   "outputs": [
    {
     "data": {
      "text/plain": [
       "0"
      ]
     },
     "execution_count": 11,
     "metadata": {},
     "output_type": "execute_result"
    }
   ],
   "source": [
    "data.seek(0)"
   ]
  },
  {
   "cell_type": "code",
   "execution_count": 12,
   "id": "e7d53af0-4ac0-4ef3-85b6-3f7d703a0f4a",
   "metadata": {},
   "outputs": [
    {
     "data": {
      "text/plain": [
       "'this is my first write operation in the file'"
      ]
     },
     "execution_count": 12,
     "metadata": {},
     "output_type": "execute_result"
    }
   ],
   "source": [
    "data.read()"
   ]
  },
  {
   "cell_type": "code",
   "execution_count": 13,
   "id": "12078f07-f042-4b2c-bdda-bf92ad92bb31",
   "metadata": {},
   "outputs": [
    {
     "data": {
      "text/plain": [
       "10"
      ]
     },
     "execution_count": 13,
     "metadata": {},
     "output_type": "execute_result"
    }
   ],
   "source": [
    "data.seek(10)"
   ]
  },
  {
   "cell_type": "code",
   "execution_count": 14,
   "id": "03ace5ba-eb25-472b-8a16-dba1f59dd59d",
   "metadata": {},
   "outputs": [
    {
     "data": {
      "text/plain": [
       "' first write operation in the file'"
      ]
     },
     "execution_count": 14,
     "metadata": {},
     "output_type": "execute_result"
    }
   ],
   "source": [
    "data.read()"
   ]
  },
  {
   "cell_type": "code",
   "execution_count": 15,
   "id": "f80a7e59-4010-4beb-94c2-5436a8275fdc",
   "metadata": {},
   "outputs": [],
   "source": [
    "data1 = open(\"test.txt\", 'r')"
   ]
  },
  {
   "cell_type": "code",
   "execution_count": 16,
   "id": "664a7220-d90e-4193-89ae-73551a2053e8",
   "metadata": {},
   "outputs": [
    {
     "name": "stdout",
     "output_type": "stream",
     "text": [
      "this is my first write operation in the file\n"
     ]
    }
   ],
   "source": [
    "for i in data1:\n",
    "    print(i)"
   ]
  },
  {
   "cell_type": "code",
   "execution_count": 17,
   "id": "b2930e1f-bc3d-4738-9a41-529e2ab9e11f",
   "metadata": {},
   "outputs": [],
   "source": [
    "import os"
   ]
  },
  {
   "cell_type": "code",
   "execution_count": 18,
   "id": "d207771b-990f-40bd-bfdf-6dea4beb4286",
   "metadata": {},
   "outputs": [
    {
     "data": {
      "text/plain": [
       "44"
      ]
     },
     "execution_count": 18,
     "metadata": {},
     "output_type": "execute_result"
    }
   ],
   "source": [
    "os.path.getsize(\"test.txt\")"
   ]
  },
  {
   "cell_type": "code",
   "execution_count": 19,
   "id": "760e8584-3fd5-4923-8659-3c28c9181bca",
   "metadata": {},
   "outputs": [],
   "source": [
    "import shutil"
   ]
  },
  {
   "cell_type": "code",
   "execution_count": 20,
   "id": "e93cc703-6121-4972-8240-398c32198191",
   "metadata": {},
   "outputs": [
    {
     "data": {
      "text/plain": [
       "'new_test.txt'"
      ]
     },
     "execution_count": 20,
     "metadata": {},
     "output_type": "execute_result"
    }
   ],
   "source": [
    "shutil.copy(\"test.txt\", \"new_test.txt\")"
   ]
  },
  {
   "cell_type": "code",
   "execution_count": 21,
   "id": "60ecd283-6695-4448-8ff2-b956a8503cf2",
   "metadata": {},
   "outputs": [],
   "source": [
    "os.remove(\"test.txt\")"
   ]
  },
  {
   "cell_type": "code",
   "execution_count": 24,
   "id": "193afe94-29b4-4634-b8c8-56232f56d4ef",
   "metadata": {},
   "outputs": [
    {
     "name": "stdout",
     "output_type": "stream",
     "text": [
      "this is my first write operation in the file\n"
     ]
    }
   ],
   "source": [
    "with open(\"new_test.txt\", 'r') as f:\n",
    "    print(f.read())"
   ]
  },
  {
   "cell_type": "code",
   "execution_count": 25,
   "id": "57dcc02b-1f7c-40bf-a534-e1796ad3ca2f",
   "metadata": {},
   "outputs": [],
   "source": [
    "os.rename(\"new_test.txt\", \"test1.txt\")"
   ]
  },
  {
   "cell_type": "code",
   "execution_count": null,
   "id": "443b7e0a-166f-4479-992a-ee85f8f982e9",
   "metadata": {},
   "outputs": [],
   "source": []
  }
 ],
 "metadata": {
  "kernelspec": {
   "display_name": "Python 3 (ipykernel)",
   "language": "python",
   "name": "python3"
  },
  "language_info": {
   "codemirror_mode": {
    "name": "ipython",
    "version": 3
   },
   "file_extension": ".py",
   "mimetype": "text/x-python",
   "name": "python",
   "nbconvert_exporter": "python",
   "pygments_lexer": "ipython3",
   "version": "3.10.8"
  }
 },
 "nbformat": 4,
 "nbformat_minor": 5
}
