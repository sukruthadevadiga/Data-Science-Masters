{
 "cells": [
  {
   "cell_type": "code",
   "execution_count": 23,
   "id": "1bd7626e-19e5-48b8-872b-374ed9924f8a",
   "metadata": {},
   "outputs": [],
   "source": [
    "#blueprint or a skeleton class\n",
    "\n",
    "import abc\n",
    "\n",
    "class pwskills:\n",
    "    \n",
    "    @abc.abstractmethod\n",
    "    def student_details(self):\n",
    "        pass\n",
    "    \n",
    "    @abc.abstractmethod\n",
    "    def student_assignment(self):\n",
    "        pass\n",
    "    \n",
    "    @abc.abstractmethod\n",
    "    def student_marks(self):\n",
    "        pass"
   ]
  },
  {
   "cell_type": "code",
   "execution_count": 24,
   "id": "8dca6ba7-bc14-4223-b310-32054db03731",
   "metadata": {},
   "outputs": [],
   "source": [
    "class data_science(pwskills):\n",
    "    \n",
    "    def student_details(self):\n",
    "        return \"this will try to return details of the student\"\n",
    "    \n",
    "    def student_assignment(self):\n",
    "        return \"this will try to give details of assignment of student\"\n",
    "        "
   ]
  },
  {
   "cell_type": "code",
   "execution_count": 25,
   "id": "c5530ee2-4442-4e05-b80c-26a801714646",
   "metadata": {},
   "outputs": [],
   "source": [
    "class web_dev(pwskills):\n",
    "    def student_details(self):\n",
    "        return \"this will return details of web dev\"\n",
    "    \n",
    "    def student_marks(self):\n",
    "        return \"this will return marks of the students in web dev\""
   ]
  },
  {
   "cell_type": "code",
   "execution_count": 26,
   "id": "ed41985c-b4dc-431c-a1ef-0942d9a5a602",
   "metadata": {},
   "outputs": [],
   "source": [
    "ds = data_science()"
   ]
  },
  {
   "cell_type": "code",
   "execution_count": 27,
   "id": "69b73b0d-8a79-4623-a10c-24d354029222",
   "metadata": {},
   "outputs": [
    {
     "data": {
      "text/plain": [
       "'this will try to return details of the student'"
      ]
     },
     "execution_count": 27,
     "metadata": {},
     "output_type": "execute_result"
    }
   ],
   "source": [
    "ds.student_details()"
   ]
  },
  {
   "cell_type": "code",
   "execution_count": 28,
   "id": "b2d0155c-9628-469a-a80a-02ec00a83538",
   "metadata": {},
   "outputs": [
    {
     "data": {
      "text/plain": [
       "'this will try to give details of assignment of student'"
      ]
     },
     "execution_count": 28,
     "metadata": {},
     "output_type": "execute_result"
    }
   ],
   "source": [
    "ds.student_assignment()"
   ]
  },
  {
   "cell_type": "code",
   "execution_count": 29,
   "id": "deef54ac-d19e-4b73-8eb8-ba4271fcb34e",
   "metadata": {},
   "outputs": [],
   "source": [
    "ds.student_marks()"
   ]
  },
  {
   "cell_type": "code",
   "execution_count": 30,
   "id": "36d3a528-7477-4152-911c-57230bd0355b",
   "metadata": {},
   "outputs": [],
   "source": [
    "wb = web_dev()"
   ]
  },
  {
   "cell_type": "code",
   "execution_count": 31,
   "id": "35fb91df-ead8-42d2-a3da-beabb3bd484d",
   "metadata": {},
   "outputs": [],
   "source": [
    "wb.student_assignment()"
   ]
  },
  {
   "cell_type": "code",
   "execution_count": 32,
   "id": "3eabdbae-51c4-48ae-b7de-1e2c93c3a53e",
   "metadata": {},
   "outputs": [
    {
     "data": {
      "text/plain": [
       "'this will return details of web dev'"
      ]
     },
     "execution_count": 32,
     "metadata": {},
     "output_type": "execute_result"
    }
   ],
   "source": [
    "wb.student_details()"
   ]
  },
  {
   "cell_type": "code",
   "execution_count": 33,
   "id": "fdb1fe0a-7ce2-40b1-8448-cecd571af8f4",
   "metadata": {},
   "outputs": [
    {
     "data": {
      "text/plain": [
       "'this will return marks of the students in web dev'"
      ]
     },
     "execution_count": 33,
     "metadata": {},
     "output_type": "execute_result"
    }
   ],
   "source": [
    "wb.student_marks()"
   ]
  },
  {
   "cell_type": "code",
   "execution_count": null,
   "id": "8ddd28a7-ef6f-42f7-a2a5-9cca6bb713ec",
   "metadata": {},
   "outputs": [],
   "source": []
  }
 ],
 "metadata": {
  "kernelspec": {
   "display_name": "Python 3 (ipykernel)",
   "language": "python",
   "name": "python3"
  },
  "language_info": {
   "codemirror_mode": {
    "name": "ipython",
    "version": 3
   },
   "file_extension": ".py",
   "mimetype": "text/x-python",
   "name": "python",
   "nbconvert_exporter": "python",
   "pygments_lexer": "ipython3",
   "version": "3.10.8"
  }
 },
 "nbformat": 4,
 "nbformat_minor": 5
}
