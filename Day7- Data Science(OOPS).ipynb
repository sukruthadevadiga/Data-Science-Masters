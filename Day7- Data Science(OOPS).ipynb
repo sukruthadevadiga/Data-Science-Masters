{
 "cells": [
  {
   "cell_type": "markdown",
   "id": "d7a3302d-84bd-41c7-a8ca-c181a48b8338",
   "metadata": {},
   "source": [
    "## OOPS -Object Oriented Programing System"
   ]
  },
  {
   "cell_type": "code",
   "execution_count": 4,
   "id": "7f4817a6-576b-4cb5-8738-3bb17f872f1d",
   "metadata": {},
   "outputs": [],
   "source": [
    "class test:\n",
    "    pass"
   ]
  },
  {
   "cell_type": "code",
   "execution_count": 7,
   "id": "9c534e9a-edf5-49a6-9a22-7a8cff62fd26",
   "metadata": {},
   "outputs": [],
   "source": [
    "a = test()"
   ]
  },
  {
   "cell_type": "code",
   "execution_count": 9,
   "id": "39eafcb6-965f-4293-97c2-24ad61920f81",
   "metadata": {},
   "outputs": [
    {
     "name": "stdout",
     "output_type": "stream",
     "text": [
      "<class '__main__.test'>\n"
     ]
    }
   ],
   "source": [
    "print(type(a))"
   ]
  },
  {
   "cell_type": "code",
   "execution_count": 13,
   "id": "cde81b05-dc8c-49ec-9aec-c7c1e4863d99",
   "metadata": {},
   "outputs": [],
   "source": [
    "class pwskills():\n",
    "    \n",
    "    def welcome_msg(self):\n",
    "        print(\"Welcometo PWSkills\")"
   ]
  },
  {
   "cell_type": "code",
   "execution_count": 14,
   "id": "200587a8-bad6-4f3c-af08-2a15a8552f1f",
   "metadata": {},
   "outputs": [],
   "source": [
    "rohan = pwskills()"
   ]
  },
  {
   "cell_type": "code",
   "execution_count": 15,
   "id": "f509dde1-6db7-4038-828e-5379ec43fe8c",
   "metadata": {},
   "outputs": [
    {
     "name": "stdout",
     "output_type": "stream",
     "text": [
      "Welcometo PWSkills\n"
     ]
    }
   ],
   "source": [
    "rohan.welcome_msg()"
   ]
  },
  {
   "cell_type": "code",
   "execution_count": 17,
   "id": "f2639c6e-175c-4ad5-9d18-db9143d1e737",
   "metadata": {},
   "outputs": [],
   "source": [
    "sohan = pwskills()"
   ]
  },
  {
   "cell_type": "code",
   "execution_count": 18,
   "id": "1d33d979-6712-4efa-9daf-03abae96db09",
   "metadata": {},
   "outputs": [
    {
     "name": "stdout",
     "output_type": "stream",
     "text": [
      "Welcometo PWSkills\n"
     ]
    }
   ],
   "source": [
    "sohan.welcome_msg()"
   ]
  },
  {
   "cell_type": "code",
   "execution_count": 39,
   "id": "ea5e9c5f-4b7c-4408-948e-79fe4b4f28eb",
   "metadata": {},
   "outputs": [],
   "source": [
    "##constructor\n",
    "class pwskills1():\n",
    "    \n",
    "    def __init__(self, phone_number, email_id, student_id):\n",
    "        \n",
    "        self.phone_number = phone_number\n",
    "        self.student_id = student_id\n",
    "        self.email_id = email_id\n",
    "        \n",
    "        \n",
    "    def return_student_details(self):\n",
    "        return self.phone_number, self.email_id, self.student_id"
   ]
  },
  {
   "cell_type": "code",
   "execution_count": 40,
   "id": "742aaaab-c8e2-438a-a739-035a58505880",
   "metadata": {},
   "outputs": [],
   "source": [
    "rohan = pwskills1(938300103, \"rohan@gmail.com\" , 1001)"
   ]
  },
  {
   "cell_type": "code",
   "execution_count": 41,
   "id": "3818528e-84d8-45bc-ad95-e306fa1ecf42",
   "metadata": {},
   "outputs": [
    {
     "data": {
      "text/plain": [
       "'rohan@gmail.com'"
      ]
     },
     "execution_count": 41,
     "metadata": {},
     "output_type": "execute_result"
    }
   ],
   "source": [
    "rohan.email_id"
   ]
  },
  {
   "cell_type": "code",
   "execution_count": 42,
   "id": "f9c34a76-278e-4ed7-997c-465a2772792b",
   "metadata": {},
   "outputs": [
    {
     "data": {
      "text/plain": [
       "938300103"
      ]
     },
     "execution_count": 42,
     "metadata": {},
     "output_type": "execute_result"
    }
   ],
   "source": [
    "rohan.phone_number"
   ]
  },
  {
   "cell_type": "code",
   "execution_count": 43,
   "id": "56ae26a6-2bf1-4402-97f9-9cc01c3ede4b",
   "metadata": {},
   "outputs": [
    {
     "data": {
      "text/plain": [
       "1001"
      ]
     },
     "execution_count": 43,
     "metadata": {},
     "output_type": "execute_result"
    }
   ],
   "source": [
    "rohan.student_id"
   ]
  },
  {
   "cell_type": "code",
   "execution_count": 44,
   "id": "26f34e0d-f03f-45ac-bda5-1ccc5a8b8421",
   "metadata": {},
   "outputs": [],
   "source": [
    "sahil = pwskills1(9864226232, \"sahil@gmail.com\" , 1002)"
   ]
  },
  {
   "cell_type": "code",
   "execution_count": 45,
   "id": "65a8855a-8361-48b0-8f3f-12aff35cffa0",
   "metadata": {},
   "outputs": [
    {
     "data": {
      "text/plain": [
       "'sahil@gmail.com'"
      ]
     },
     "execution_count": 45,
     "metadata": {},
     "output_type": "execute_result"
    }
   ],
   "source": [
    "sahil.email_id"
   ]
  },
  {
   "cell_type": "code",
   "execution_count": 46,
   "id": "fc174a8c-f46d-4fa0-b4fa-19db0161c3c4",
   "metadata": {},
   "outputs": [
    {
     "data": {
      "text/plain": [
       "9864226232"
      ]
     },
     "execution_count": 46,
     "metadata": {},
     "output_type": "execute_result"
    }
   ],
   "source": [
    "sahil.phone_number"
   ]
  },
  {
   "cell_type": "code",
   "execution_count": 47,
   "id": "c3114753-200b-46d4-b0de-6608fd979718",
   "metadata": {},
   "outputs": [
    {
     "data": {
      "text/plain": [
       "1002"
      ]
     },
     "execution_count": 47,
     "metadata": {},
     "output_type": "execute_result"
    }
   ],
   "source": [
    "sahil.student_id"
   ]
  },
  {
   "cell_type": "code",
   "execution_count": 48,
   "id": "a3cc3bec-615d-4179-bf32-e9fe1ae63426",
   "metadata": {},
   "outputs": [
    {
     "data": {
      "text/plain": [
       "(9864226232, 'sahil@gmail.com', 1002)"
      ]
     },
     "execution_count": 48,
     "metadata": {},
     "output_type": "execute_result"
    }
   ],
   "source": [
    "sahil.return_student_details()"
   ]
  },
  {
   "cell_type": "code",
   "execution_count": 49,
   "id": "b9aaffa9-cacf-41e2-a410-00e2d8eade76",
   "metadata": {},
   "outputs": [
    {
     "data": {
      "text/plain": [
       "(938300103, 'rohan@gmail.com', 1001)"
      ]
     },
     "execution_count": 49,
     "metadata": {},
     "output_type": "execute_result"
    }
   ],
   "source": [
    "rohan.return_student_details()"
   ]
  },
  {
   "cell_type": "code",
   "execution_count": null,
   "id": "5d277fe7-ce9e-491c-b42c-5dc45f504174",
   "metadata": {},
   "outputs": [],
   "source": []
  },
  {
   "cell_type": "code",
   "execution_count": null,
   "id": "9a16b554-df29-4675-af38-28cb8b08ffff",
   "metadata": {},
   "outputs": [],
   "source": []
  },
  {
   "cell_type": "code",
   "execution_count": null,
   "id": "f5d8961b-d249-4cad-965f-a0835ed80117",
   "metadata": {},
   "outputs": [],
   "source": []
  },
  {
   "cell_type": "code",
   "execution_count": null,
   "id": "37801f66-1189-43d3-87a1-fbfb47d81323",
   "metadata": {},
   "outputs": [],
   "source": []
  }
 ],
 "metadata": {
  "kernelspec": {
   "display_name": "Python 3 (ipykernel)",
   "language": "python",
   "name": "python3"
  },
  "language_info": {
   "codemirror_mode": {
    "name": "ipython",
    "version": 3
   },
   "file_extension": ".py",
   "mimetype": "text/x-python",
   "name": "python",
   "nbconvert_exporter": "python",
   "pygments_lexer": "ipython3",
   "version": "3.10.8"
  }
 },
 "nbformat": 4,
 "nbformat_minor": 5
}
