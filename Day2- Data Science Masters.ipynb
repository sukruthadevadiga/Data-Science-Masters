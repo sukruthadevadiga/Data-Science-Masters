{
 "cells": [
  {
   "cell_type": "code",
   "execution_count": 1,
   "id": "7e84ebaa-a290-4659-bfe3-31bc1c07e252",
   "metadata": {},
   "outputs": [
    {
     "name": "stdout",
     "output_type": "stream",
     "text": [
      "My age is 24\n"
     ]
    }
   ],
   "source": [
    "age=24\n",
    "print(\"My age is\",age)"
   ]
  },
  {
   "cell_type": "code",
   "execution_count": 3,
   "id": "f7797e18-f8ff-4eb3-97f5-bca61b0cb977",
   "metadata": {},
   "outputs": [
    {
     "name": "stdout",
     "output_type": "stream",
     "text": [
      "My age is: 24\n"
     ]
    }
   ],
   "source": [
    "## f string\n",
    "print(f\"My age is: {age}\")"
   ]
  },
  {
   "cell_type": "code",
   "execution_count": 4,
   "id": "f975f4c6-24b1-4c87-b0b1-9c1f22d2f8f9",
   "metadata": {},
   "outputs": [
    {
     "name": "stdout",
     "output_type": "stream",
     "text": [
      "My name is SK and my age is 24\n"
     ]
    }
   ],
   "source": [
    "## formatting\n",
    "name=\"SK\"\n",
    "age=24\n",
    "print(\"My name is {} and my age is {}\".format(name,age))"
   ]
  },
  {
   "cell_type": "code",
   "execution_count": 6,
   "id": "ad3adabf-e914-4864-ae30-015611ecea52",
   "metadata": {},
   "outputs": [
    {
     "name": "stdout",
     "output_type": "stream",
     "text": [
      "My name is SK and my age is 24\n"
     ]
    }
   ],
   "source": [
    "## placeholder\n",
    "print(\"My name is {firstname} and my age is {firstage}\".format(firstage=age,firstname=name))"
   ]
  },
  {
   "cell_type": "code",
   "execution_count": 9,
   "id": "ade5700c-1d59-45e8-a8d4-5e52a2b0e93e",
   "metadata": {},
   "outputs": [
    {
     "name": "stdout",
     "output_type": "stream",
     "text": [
      "You are not eligible to vote\n"
     ]
    }
   ],
   "source": [
    "## If statement\n",
    "age=17\n",
    "if age<18:\n",
    "    print(\"You are not eligible to vote\")"
   ]
  },
  {
   "cell_type": "code",
   "execution_count": 11,
   "id": "80177480-fe3a-4fcf-9081-71c90c07310d",
   "metadata": {},
   "outputs": [
    {
     "name": "stdin",
     "output_type": "stream",
     "text": [
      "Enter your name SK\n"
     ]
    }
   ],
   "source": [
    "name=input(\"Enter your name\")\n"
   ]
  },
  {
   "cell_type": "code",
   "execution_count": 12,
   "id": "f5155724-79bb-4569-a397-297837d3b99a",
   "metadata": {},
   "outputs": [
    {
     "data": {
      "text/plain": [
       "'SK'"
      ]
     },
     "execution_count": 12,
     "metadata": {},
     "output_type": "execute_result"
    }
   ],
   "source": [
    "name"
   ]
  },
  {
   "cell_type": "code",
   "execution_count": 13,
   "id": "f5675904-17a1-4253-b3d6-7e9e9212ad8a",
   "metadata": {},
   "outputs": [
    {
     "name": "stdin",
     "output_type": "stream",
     "text": [
      "Enter your age 24\n"
     ]
    }
   ],
   "source": [
    "age=int(input(\"Enter your age\"))"
   ]
  },
  {
   "cell_type": "code",
   "execution_count": 15,
   "id": "9ea34055-b389-40f3-9bbe-c8ed2f9dd6a4",
   "metadata": {},
   "outputs": [
    {
     "data": {
      "text/plain": [
       "int"
      ]
     },
     "execution_count": 15,
     "metadata": {},
     "output_type": "execute_result"
    }
   ],
   "source": [
    "type(age)"
   ]
  },
  {
   "cell_type": "code",
   "execution_count": 23,
   "id": "5596ba98-752a-4d89-b7ae-138e53fe4f30",
   "metadata": {},
   "outputs": [
    {
     "name": "stdin",
     "output_type": "stream",
     "text": [
      "Enter the age 17\n"
     ]
    },
    {
     "name": "stdout",
     "output_type": "stream",
     "text": [
      "Thank you we will let you know\n"
     ]
    }
   ],
   "source": [
    "age=int(input(\"Enter the age\"))\n",
    "if age>=18 and age<=45:\n",
    "    print(\"You are young Blood\")\n",
    "else:\n",
    "    print(\"Thank you we will let you know\")"
   ]
  },
  {
   "cell_type": "code",
   "execution_count": 29,
   "id": "9ab675d1-c916-4eea-94f8-3b1140d8dfb6",
   "metadata": {},
   "outputs": [
    {
     "name": "stdin",
     "output_type": "stream",
     "text": [
      "Enter the product price 5000\n"
     ]
    },
    {
     "name": "stdout",
     "output_type": "stream",
     "text": [
      "20% applied on the Product price and the price of the product is 4000.0\n"
     ]
    }
   ],
   "source": [
    "product_price=float(input(\"Enter the product price\"))\n",
    "if product_price>1000:\n",
    "    print(\"20% applied on the Product price and the price of the product is {}\".format(product_price*0.8))\n",
    "else:\n",
    "    print(\"30% applied on the Product price and the price of the product is {}\".format(product_price*0.7))"
   ]
  },
  {
   "cell_type": "code",
   "execution_count": 25,
   "id": "966bc618-b1ca-44f9-937a-f768f101ad94",
   "metadata": {},
   "outputs": [
    {
     "data": {
      "text/plain": [
       "201.0"
      ]
     },
     "execution_count": 25,
     "metadata": {},
     "output_type": "execute_result"
    }
   ],
   "source": [
    "discount"
   ]
  },
  {
   "cell_type": "code",
   "execution_count": 39,
   "id": "5b9233b9-132e-498a-96ef-53e070141148",
   "metadata": {},
   "outputs": [
    {
     "name": "stdin",
     "output_type": "stream",
     "text": [
      "Enter the product price 55\n"
     ]
    },
    {
     "name": "stdout",
     "output_type": "stream",
     "text": [
      "Sorry!!!\n",
      "Tere bass ki baat nahi hai!!!\n"
     ]
    }
   ],
   "source": [
    "product_price=float(input(\"Enter the product price\"))\n",
    "if product_price>3000:\n",
    "    if product_price==4000:\n",
    "        print(\"Congratulations you get a Goa trip\")\n",
    "    print(\"20% applied on the Product price and the price of the product is {}\".format(product_price*0.8))\n",
    "elif product_price>=2000 and product_price<=3000:\n",
    "    if product_price==2999:\n",
    "        print(\"Congratulations you get an additional gift\")\n",
    "    print(\"30% applied on the Product price and the price of the product is {}\".format(product_price*0.7))\n",
    "elif product_price>=100 and product_price<2000:\n",
    "    print(\"40% applied on the Product price and the price of the product is {}\".format(product_price*0.6))\n",
    "else:\n",
    "    print(\"Sorry!!!\")\n",
    "    print(\"Tere bass ki baat nahi hai!!!\")"
   ]
  },
  {
   "cell_type": "code",
   "execution_count": 44,
   "id": "94f375d7-bc9a-443f-9c74-e197f41949b1",
   "metadata": {},
   "outputs": [
    {
     "name": "stdout",
     "output_type": "stream",
     "text": [
      "25\n",
      "26\n",
      "27\n",
      "28\n",
      "29\n",
      "30\n",
      "31\n",
      "32\n",
      "33\n",
      "34\n",
      "35\n",
      "36\n",
      "37\n",
      "38\n",
      "39\n",
      "40\n",
      "41\n",
      "42\n",
      "43\n",
      "44\n",
      "45\n",
      "46\n",
      "47\n",
      "48\n",
      "49\n",
      "50\n",
      "51\n",
      "52\n",
      "53\n",
      "54\n",
      "55\n",
      "56\n",
      "57\n",
      "58\n",
      "59\n",
      "60\n",
      "Its time to retirement\n"
     ]
    }
   ],
   "source": [
    "## while loop while-else\n",
    "joining_age=25\n",
    "while joining_age<=60:\n",
    "    print(joining_age)\n",
    "    joining_age=joining_age+1\n",
    "else: \n",
    "    print(\"Its time to retirement\")"
   ]
  },
  {
   "cell_type": "code",
   "execution_count": 47,
   "id": "e65ddb51-741d-400f-a6d4-d49324d23f93",
   "metadata": {},
   "outputs": [
    {
     "name": "stdout",
     "output_type": "stream",
     "text": [
      "1000\n",
      "900\n",
      "800\n",
      "700\n",
      "600\n",
      "500\n",
      "400\n",
      "300\n",
      "200\n",
      "100\n",
      "No money in the ATM\n"
     ]
    }
   ],
   "source": [
    "##Atm machine with 1000rs\n",
    "total_amount=1000\n",
    "while total_amount!=0:\n",
    "    print(total_amount)\n",
    "    total_amount=total_amount-100\n",
    "else:\n",
    "    print(\"No money in the ATM\")"
   ]
  },
  {
   "cell_type": "markdown",
   "id": "afc98b74-61cf-4676-8df0-5bf1777abc7d",
   "metadata": {},
   "source": [
    "## For loop"
   ]
  },
  {
   "cell_type": "code",
   "execution_count": 1,
   "id": "5213d486-24c7-4fe6-b13b-672277a28f90",
   "metadata": {},
   "outputs": [],
   "source": [
    "lst=[\"sk\",1,2,3,4,\"apple\",\"mango\"]"
   ]
  },
  {
   "cell_type": "code",
   "execution_count": 2,
   "id": "fb56387a-cdbd-4064-b5d8-52f8bbd6b037",
   "metadata": {},
   "outputs": [
    {
     "data": {
      "text/plain": [
       "list"
      ]
     },
     "execution_count": 2,
     "metadata": {},
     "output_type": "execute_result"
    }
   ],
   "source": [
    "type(lst)"
   ]
  },
  {
   "cell_type": "code",
   "execution_count": 7,
   "id": "8a0617e4-8ed4-43e0-a8ff-98c858ab234b",
   "metadata": {},
   "outputs": [
    {
     "name": "stdout",
     "output_type": "stream",
     "text": [
      "sk\n",
      "Sk IS THE STRONGEST OF ALL\n",
      "1\n",
      "2\n",
      "3\n",
      "4\n",
      "apple\n",
      "mango\n"
     ]
    }
   ],
   "source": [
    "for x in lst:\n",
    "    print(x)\n",
    "    if x==\"sk\":\n",
    "        print(\"Sk IS THE STRONGEST OF ALL\")"
   ]
  },
  {
   "cell_type": "code",
   "execution_count": 8,
   "id": "6b52cb6a-a432-451f-ab8b-3a92195b31d8",
   "metadata": {},
   "outputs": [
    {
     "name": "stdout",
     "output_type": "stream",
     "text": [
      "m\n",
      "a\n",
      "n\n",
      "g\n",
      "o\n"
     ]
    }
   ],
   "source": [
    "fruit='mango'\n",
    "for x in fruit:\n",
    "    print(x)"
   ]
  },
  {
   "cell_type": "code",
   "execution_count": 18,
   "id": "79218c04-f552-496e-9d5b-974466ce3802",
   "metadata": {},
   "outputs": [],
   "source": [
    "## Nested loops\n",
    "n=7\n",
    "\n"
   ]
  },
  {
   "cell_type": "code",
   "execution_count": 17,
   "id": "78cf56b6-7aa4-48c0-9d10-8e4d3fde41eb",
   "metadata": {},
   "outputs": [
    {
     "name": "stdout",
     "output_type": "stream",
     "text": [
      "1\n",
      "3\n",
      "5\n"
     ]
    }
   ],
   "source": [
    "for i in range(1,6,2):\n",
    "    print(i)"
   ]
  },
  {
   "cell_type": "code",
   "execution_count": 20,
   "id": "a27b35b9-37ec-4ab9-8be8-cc5ade524f9e",
   "metadata": {},
   "outputs": [
    {
     "name": "stdout",
     "output_type": "stream",
     "text": [
      "*\n",
      "**\n",
      "***\n",
      "****\n",
      "*****\n",
      "******\n",
      "*******\n"
     ]
    }
   ],
   "source": [
    "## Nested loops\n",
    "n=7\n",
    "for i in range(0,n):\n",
    "    for j in range(0,i+1):\n",
    "        print(\"*\",end=\"\")\n",
    "    print(\"\\r\")"
   ]
  },
  {
   "cell_type": "code",
   "execution_count": 25,
   "id": "81adc46f-4ff6-4f7a-b05b-edd05f4b0326",
   "metadata": {},
   "outputs": [
    {
     "name": "stdout",
     "output_type": "stream",
     "text": [
      "Mango\n",
      "Cherry\n",
      "This fruit is Apple\n"
     ]
    }
   ],
   "source": [
    "#loop controls\n",
    "##Break and continue\n",
    "fruits_list=[\"Mango\",\"Cherry\",\"Apple\",\"Papaya\",\"Banana\"]\n",
    "for i in fruits_list:\n",
    "    if i==\"Apple\":\n",
    "        print(\"This fruit is Apple\")\n",
    "        break\n",
    "    print(i)"
   ]
  },
  {
   "cell_type": "code",
   "execution_count": 26,
   "id": "e4684b3f-13de-46cb-b9cc-e7d6cd0c47fd",
   "metadata": {},
   "outputs": [
    {
     "name": "stdout",
     "output_type": "stream",
     "text": [
      "Mango\n",
      "Cherry\n",
      "This fruit is Apple\n",
      "Apple\n",
      "Papaya\n",
      "Banana\n"
     ]
    }
   ],
   "source": [
    "#loop controls\n",
    "##Break and continue\n",
    "fruits_list=[\"Mango\",\"Cherry\",\"Apple\",\"Papaya\",\"Banana\"]\n",
    "for i in fruits_list:\n",
    "    if i==\"Apple\":\n",
    "        print(\"This fruit is Apple\")\n",
    "        pass\n",
    "    print(i)"
   ]
  },
  {
   "cell_type": "code",
   "execution_count": 27,
   "id": "f10df33d-1670-4d3e-89df-282706886f80",
   "metadata": {},
   "outputs": [
    {
     "name": "stdout",
     "output_type": "stream",
     "text": [
      "Mango\n",
      "Cherry\n",
      "This fruit is Apple\n",
      "Papaya\n",
      "Banana\n"
     ]
    }
   ],
   "source": [
    "#loop controls\n",
    "##Break and continue\n",
    "fruits_list=[\"Mango\",\"Cherry\",\"Apple\",\"Papaya\",\"Banana\"]\n",
    "for i in fruits_list:\n",
    "    if i==\"Apple\":\n",
    "        print(\"This fruit is Apple\")\n",
    "        continue\n",
    "    print(i)"
   ]
  },
  {
   "cell_type": "code",
   "execution_count": null,
   "id": "5537f28d-b4e6-4dd8-b52f-d42ab63b42e6",
   "metadata": {},
   "outputs": [],
   "source": []
  }
 ],
 "metadata": {
  "kernelspec": {
   "display_name": "Python 3 (ipykernel)",
   "language": "python",
   "name": "python3"
  },
  "language_info": {
   "codemirror_mode": {
    "name": "ipython",
    "version": 3
   },
   "file_extension": ".py",
   "mimetype": "text/x-python",
   "name": "python",
   "nbconvert_exporter": "python",
   "pygments_lexer": "ipython3",
   "version": "3.10.8"
  }
 },
 "nbformat": 4,
 "nbformat_minor": 5
}
