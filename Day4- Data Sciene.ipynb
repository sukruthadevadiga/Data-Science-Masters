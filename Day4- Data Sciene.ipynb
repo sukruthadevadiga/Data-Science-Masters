{
 "cells": [
  {
   "cell_type": "code",
   "execution_count": 1,
   "id": "85843d24-8df3-49b9-8930-978d704f7d07",
   "metadata": {},
   "outputs": [],
   "source": [
    "t1 = (1,2,45,6,7,'sk','kero')\n"
   ]
  },
  {
   "cell_type": "code",
   "execution_count": 4,
   "id": "d5bd088b-2176-4e6d-8681-8434d158dfc8",
   "metadata": {},
   "outputs": [
    {
     "data": {
      "text/plain": [
       "1"
      ]
     },
     "execution_count": 4,
     "metadata": {},
     "output_type": "execute_result"
    }
   ],
   "source": [
    "t1.count(2)"
   ]
  },
  {
   "cell_type": "code",
   "execution_count": 5,
   "id": "41e37f4c-5cc7-4e18-9f0e-bd272cb763e3",
   "metadata": {},
   "outputs": [
    {
     "data": {
      "text/plain": [
       "6"
      ]
     },
     "execution_count": 5,
     "metadata": {},
     "output_type": "execute_result"
    }
   ],
   "source": [
    "t1.index('kero')"
   ]
  },
  {
   "cell_type": "code",
   "execution_count": 7,
   "id": "d3de5436-66f4-447b-9356-22e624b5cbf0",
   "metadata": {},
   "outputs": [
    {
     "data": {
      "text/plain": [
       "1"
      ]
     },
     "execution_count": 7,
     "metadata": {},
     "output_type": "execute_result"
    }
   ],
   "source": [
    "t1.count(True)"
   ]
  },
  {
   "cell_type": "code",
   "execution_count": 9,
   "id": "e640e3d3-db57-4105-a0d7-6db0c2dc223b",
   "metadata": {},
   "outputs": [
    {
     "name": "stdout",
     "output_type": "stream",
     "text": [
      "1 <class 'int'>\n",
      "2 <class 'int'>\n",
      "45 <class 'int'>\n",
      "6 <class 'int'>\n",
      "7 <class 'int'>\n",
      "sk <class 'str'>\n",
      "kero <class 'str'>\n"
     ]
    }
   ],
   "source": [
    "for i in t1:\n",
    "    print(i, type(i))"
   ]
  },
  {
   "cell_type": "code",
   "execution_count": 10,
   "id": "404910e0-5db0-4ec7-9672-7d4fc79fd0af",
   "metadata": {},
   "outputs": [
    {
     "data": {
      "text/plain": [
       "(1,\n",
       " 2,\n",
       " 45,\n",
       " 6,\n",
       " 7,\n",
       " 'sk',\n",
       " 'kero',\n",
       " 1,\n",
       " 2,\n",
       " 45,\n",
       " 6,\n",
       " 7,\n",
       " 'sk',\n",
       " 'kero',\n",
       " 1,\n",
       " 2,\n",
       " 45,\n",
       " 6,\n",
       " 7,\n",
       " 'sk',\n",
       " 'kero',\n",
       " 1,\n",
       " 2,\n",
       " 45,\n",
       " 6,\n",
       " 7,\n",
       " 'sk',\n",
       " 'kero',\n",
       " 1,\n",
       " 2,\n",
       " 45,\n",
       " 6,\n",
       " 7,\n",
       " 'sk',\n",
       " 'kero')"
      ]
     },
     "execution_count": 10,
     "metadata": {},
     "output_type": "execute_result"
    }
   ],
   "source": [
    "t1 * 5"
   ]
  },
  {
   "cell_type": "code",
   "execution_count": 11,
   "id": "6e0975f4-f635-4b68-a4da-661d69b6192b",
   "metadata": {},
   "outputs": [
    {
     "ename": "TypeError",
     "evalue": "'>' not supported between instances of 'str' and 'int'",
     "output_type": "error",
     "traceback": [
      "\u001b[0;31m---------------------------------------------------------------------------\u001b[0m",
      "\u001b[0;31mTypeError\u001b[0m                                 Traceback (most recent call last)",
      "Cell \u001b[0;32mIn[11], line 1\u001b[0m\n\u001b[0;32m----> 1\u001b[0m \u001b[38;5;28;43mmax\u001b[39;49m\u001b[43m(\u001b[49m\u001b[43mt1\u001b[49m\u001b[43m)\u001b[49m\n",
      "\u001b[0;31mTypeError\u001b[0m: '>' not supported between instances of 'str' and 'int'"
     ]
    }
   ],
   "source": [
    "max(t1)"
   ]
  },
  {
   "cell_type": "code",
   "execution_count": 12,
   "id": "3f107103-61b9-48fc-8f7f-90143c9bf1fc",
   "metadata": {},
   "outputs": [],
   "source": [
    "del t1"
   ]
  },
  {
   "cell_type": "code",
   "execution_count": 13,
   "id": "55403bd1-2a7d-4c64-b01e-ee93f4ed8268",
   "metadata": {},
   "outputs": [
    {
     "ename": "NameError",
     "evalue": "name 't1' is not defined",
     "output_type": "error",
     "traceback": [
      "\u001b[0;31m---------------------------------------------------------------------------\u001b[0m",
      "\u001b[0;31mNameError\u001b[0m                                 Traceback (most recent call last)",
      "Cell \u001b[0;32mIn[13], line 1\u001b[0m\n\u001b[0;32m----> 1\u001b[0m \u001b[43mt1\u001b[49m\n",
      "\u001b[0;31mNameError\u001b[0m: name 't1' is not defined"
     ]
    }
   ],
   "source": [
    "t1"
   ]
  },
  {
   "cell_type": "code",
   "execution_count": 14,
   "id": "8d535cf6-8802-4f21-ad4e-7799cbc009e4",
   "metadata": {},
   "outputs": [],
   "source": [
    "t1 = (1,2,45,6,7,'sk','kero')"
   ]
  },
  {
   "cell_type": "code",
   "execution_count": 15,
   "id": "8a49d791-e58b-437e-bef0-7f87d5370078",
   "metadata": {},
   "outputs": [
    {
     "data": {
      "text/plain": [
       "(1, 2, 45, 6, 7, 'sk', 'kero')"
      ]
     },
     "execution_count": 15,
     "metadata": {},
     "output_type": "execute_result"
    }
   ],
   "source": [
    "t1"
   ]
  },
  {
   "cell_type": "code",
   "execution_count": 16,
   "id": "23256664-2a82-438f-8036-78313d80a276",
   "metadata": {},
   "outputs": [
    {
     "data": {
      "text/plain": [
       "7"
      ]
     },
     "execution_count": 16,
     "metadata": {},
     "output_type": "execute_result"
    }
   ],
   "source": [
    "len(t1)"
   ]
  },
  {
   "cell_type": "code",
   "execution_count": 17,
   "id": "513b4237-cd5b-4cf0-a14e-64564ee04df3",
   "metadata": {},
   "outputs": [],
   "source": [
    "s1 = {}"
   ]
  },
  {
   "cell_type": "code",
   "execution_count": 18,
   "id": "fcbff3a4-4a0a-4663-a886-b19493e2986c",
   "metadata": {},
   "outputs": [
    {
     "data": {
      "text/plain": [
       "dict"
      ]
     },
     "execution_count": 18,
     "metadata": {},
     "output_type": "execute_result"
    }
   ],
   "source": [
    "type(s1)"
   ]
  },
  {
   "cell_type": "code",
   "execution_count": 19,
   "id": "9fe30132-a0ff-4e88-aafd-3c6db915389a",
   "metadata": {},
   "outputs": [],
   "source": [
    "s1 = {1,2,3,4}"
   ]
  },
  {
   "cell_type": "code",
   "execution_count": 20,
   "id": "36b85cbd-bd03-404a-b3ca-4d77288ba5f0",
   "metadata": {},
   "outputs": [
    {
     "data": {
      "text/plain": [
       "set"
      ]
     },
     "execution_count": 20,
     "metadata": {},
     "output_type": "execute_result"
    }
   ],
   "source": [
    "type(s1)"
   ]
  },
  {
   "cell_type": "code",
   "execution_count": 22,
   "id": "31b3217d-77d8-407b-bae8-8fb2ecb551b5",
   "metadata": {},
   "outputs": [],
   "source": [
    "s2 = {1,1,2,2,2,2,2,3,3,3,3,4,4,4,4,5,5,5,56,6,6,63,3,2,2,5,55}"
   ]
  },
  {
   "cell_type": "code",
   "execution_count": 23,
   "id": "365c7972-c888-41d6-bf30-e3103077e362",
   "metadata": {},
   "outputs": [
    {
     "data": {
      "text/plain": [
       "{1, 2, 3, 4, 5, 6, 55, 56, 63}"
      ]
     },
     "execution_count": 23,
     "metadata": {},
     "output_type": "execute_result"
    }
   ],
   "source": [
    "s2"
   ]
  },
  {
   "cell_type": "code",
   "execution_count": 24,
   "id": "d28f086a-fbf2-4733-ad46-02956cc4f577",
   "metadata": {},
   "outputs": [
    {
     "data": {
      "text/plain": [
       "[1, 2, 3, 4, 5, 6, 55, 56, 63]"
      ]
     },
     "execution_count": 24,
     "metadata": {},
     "output_type": "execute_result"
    }
   ],
   "source": [
    "list(s2)"
   ]
  },
  {
   "cell_type": "code",
   "execution_count": 25,
   "id": "62e382de-e57f-45f2-a9b2-b18337206668",
   "metadata": {},
   "outputs": [
    {
     "data": {
      "text/plain": [
       "(1, 2, 3, 4, 5, 6, 55, 56, 63)"
      ]
     },
     "execution_count": 25,
     "metadata": {},
     "output_type": "execute_result"
    }
   ],
   "source": [
    "t1=tuple(s2)"
   ]
  },
  {
   "cell_type": "code",
   "execution_count": 27,
   "id": "83662cf2-7253-463c-a279-45e5c6c43f42",
   "metadata": {},
   "outputs": [
    {
     "data": {
      "text/plain": [
       "{1, 2, 45, 6, 7, 'kero', 'sk'}"
      ]
     },
     "execution_count": 27,
     "metadata": {},
     "output_type": "execute_result"
    }
   ],
   "source": [
    "set(t1)"
   ]
  },
  {
   "cell_type": "code",
   "execution_count": 29,
   "id": "2f5678b7-c7d6-4f0f-b74e-b3b463d6ab13",
   "metadata": {},
   "outputs": [
    {
     "name": "stdout",
     "output_type": "stream",
     "text": [
      "1\n",
      "2\n",
      "3\n",
      "4\n",
      "5\n",
      "6\n",
      "55\n",
      "56\n",
      "63\n"
     ]
    }
   ],
   "source": [
    "for i in s2:\n",
    "    print(i)"
   ]
  },
  {
   "cell_type": "code",
   "execution_count": 30,
   "id": "7ab3403b-3611-4744-93ee-9288145f455d",
   "metadata": {},
   "outputs": [],
   "source": [
    "s2.add(56)"
   ]
  },
  {
   "cell_type": "code",
   "execution_count": 31,
   "id": "28fa5b9f-7636-44af-9739-cc64ad290876",
   "metadata": {},
   "outputs": [
    {
     "data": {
      "text/plain": [
       "{1, 2, 3, 4, 5, 6, 55, 56, 63}"
      ]
     },
     "execution_count": 31,
     "metadata": {},
     "output_type": "execute_result"
    }
   ],
   "source": [
    "s2"
   ]
  },
  {
   "cell_type": "code",
   "execution_count": 32,
   "id": "e87a69a2-74ee-4cac-9408-72cbbdcbc432",
   "metadata": {},
   "outputs": [],
   "source": [
    "s2.add(777)"
   ]
  },
  {
   "cell_type": "code",
   "execution_count": 33,
   "id": "e45553ef-b4fa-4215-a0b4-3b7fbb330034",
   "metadata": {},
   "outputs": [
    {
     "data": {
      "text/plain": [
       "{1, 2, 3, 4, 5, 6, 55, 56, 63, 777}"
      ]
     },
     "execution_count": 33,
     "metadata": {},
     "output_type": "execute_result"
    }
   ],
   "source": [
    "s2"
   ]
  },
  {
   "cell_type": "code",
   "execution_count": 34,
   "id": "4b9eacef-f8fd-40db-a469-ccc03513830a",
   "metadata": {},
   "outputs": [
    {
     "data": {
      "text/plain": [
       "10"
      ]
     },
     "execution_count": 34,
     "metadata": {},
     "output_type": "execute_result"
    }
   ],
   "source": [
    "len(s2)"
   ]
  },
  {
   "cell_type": "code",
   "execution_count": 35,
   "id": "a7bc54c9-f712-4bc3-9a9f-11bf426d1083",
   "metadata": {},
   "outputs": [
    {
     "data": {
      "text/plain": [
       "1"
      ]
     },
     "execution_count": 35,
     "metadata": {},
     "output_type": "execute_result"
    }
   ],
   "source": [
    "s2.pop()"
   ]
  },
  {
   "cell_type": "code",
   "execution_count": 36,
   "id": "94e974db-0a29-4765-919c-200d336a3bfe",
   "metadata": {},
   "outputs": [
    {
     "data": {
      "text/plain": [
       "{2, 3, 4, 5, 6, 55, 56, 63, 777}"
      ]
     },
     "execution_count": 36,
     "metadata": {},
     "output_type": "execute_result"
    }
   ],
   "source": [
    "s2"
   ]
  },
  {
   "cell_type": "code",
   "execution_count": 37,
   "id": "3d042350-f75c-47d5-a6ae-b973ceeb8a94",
   "metadata": {},
   "outputs": [
    {
     "data": {
      "text/plain": [
       "2"
      ]
     },
     "execution_count": 37,
     "metadata": {},
     "output_type": "execute_result"
    }
   ],
   "source": [
    "s2.pop()"
   ]
  },
  {
   "cell_type": "code",
   "execution_count": 38,
   "id": "70d9a1be-3d14-4597-85d4-e0be7ddde9fc",
   "metadata": {},
   "outputs": [
    {
     "data": {
      "text/plain": [
       "{3, 4, 5, 6, 55, 56, 63, 777}"
      ]
     },
     "execution_count": 38,
     "metadata": {},
     "output_type": "execute_result"
    }
   ],
   "source": [
    "s2"
   ]
  },
  {
   "cell_type": "code",
   "execution_count": 40,
   "id": "185a57f4-3ee1-4151-b735-909311b06c81",
   "metadata": {},
   "outputs": [
    {
     "data": {
      "text/plain": [
       "{5, 6, 55, 56, 63, 777}"
      ]
     },
     "execution_count": 40,
     "metadata": {},
     "output_type": "execute_result"
    }
   ],
   "source": [
    "s2.difference(s1)"
   ]
  },
  {
   "cell_type": "code",
   "execution_count": 1,
   "id": "a33c43e7-1397-42c6-8a27-fc71e2e7ab5d",
   "metadata": {},
   "outputs": [],
   "source": [
    "d = {}"
   ]
  },
  {
   "cell_type": "code",
   "execution_count": 2,
   "id": "d6122ab1-4248-4db9-bae4-ebf7becd9662",
   "metadata": {},
   "outputs": [
    {
     "data": {
      "text/plain": [
       "dict"
      ]
     },
     "execution_count": 2,
     "metadata": {},
     "output_type": "execute_result"
    }
   ],
   "source": [
    "type(d)"
   ]
  },
  {
   "cell_type": "code",
   "execution_count": 4,
   "id": "597abd81-da6d-4b23-850c-5385e2862875",
   "metadata": {},
   "outputs": [],
   "source": [
    "d1 = {\"name\":\"sk\",\"email_id\":\"sk@gmail.com\",\"number\":\"9148726537\"}"
   ]
  },
  {
   "cell_type": "code",
   "execution_count": 5,
   "id": "d94ca416-79e6-4434-b725-54b7fa1e3224",
   "metadata": {},
   "outputs": [
    {
     "data": {
      "text/plain": [
       "dict"
      ]
     },
     "execution_count": 5,
     "metadata": {},
     "output_type": "execute_result"
    }
   ],
   "source": [
    "type(d1)"
   ]
  },
  {
   "cell_type": "code",
   "execution_count": 6,
   "id": "4bd2f767-557f-4d78-bd08-5e0c17eda51a",
   "metadata": {},
   "outputs": [
    {
     "data": {
      "text/plain": [
       "{'name': 'sk', 'email_id': 'sk@gmail.com', 'number': '9148726537'}"
      ]
     },
     "execution_count": 6,
     "metadata": {},
     "output_type": "execute_result"
    }
   ],
   "source": [
    "d1"
   ]
  },
  {
   "cell_type": "code",
   "execution_count": 7,
   "id": "f0d3a4d9-b368-42ab-a0c7-a2aa729b569d",
   "metadata": {},
   "outputs": [],
   "source": [
    "d1[\"time\"]=(5,8,0)"
   ]
  },
  {
   "cell_type": "code",
   "execution_count": 8,
   "id": "3014597d-0e0d-422a-9114-6d6a66632cbe",
   "metadata": {},
   "outputs": [
    {
     "data": {
      "text/plain": [
       "{'name': 'sk',\n",
       " 'email_id': 'sk@gmail.com',\n",
       " 'number': '9148726537',\n",
       " 'time': (5, 8, 0)}"
      ]
     },
     "execution_count": 8,
     "metadata": {},
     "output_type": "execute_result"
    }
   ],
   "source": [
    "d1"
   ]
  },
  {
   "cell_type": "code",
   "execution_count": 9,
   "id": "41f2002e-65be-49a3-8af1-77458c9ee182",
   "metadata": {},
   "outputs": [
    {
     "data": {
      "text/plain": [
       "(5, 8, 0)"
      ]
     },
     "execution_count": 9,
     "metadata": {},
     "output_type": "execute_result"
    }
   ],
   "source": [
    "d1[\"time\"]"
   ]
  },
  {
   "cell_type": "code",
   "execution_count": 10,
   "id": "dae5c97c-a22f-444a-961d-39f1109b501d",
   "metadata": {},
   "outputs": [
    {
     "data": {
      "text/plain": [
       "tuple"
      ]
     },
     "execution_count": 10,
     "metadata": {},
     "output_type": "execute_result"
    }
   ],
   "source": [
    "type(d1[\"time\"])"
   ]
  },
  {
   "cell_type": "code",
   "execution_count": 14,
   "id": "64f96c1b-a5ee-4d29-974d-a61861814a54",
   "metadata": {},
   "outputs": [
    {
     "data": {
      "text/plain": [
       "'SK'"
      ]
     },
     "execution_count": 14,
     "metadata": {},
     "output_type": "execute_result"
    }
   ],
   "source": [
    "d1[\"name\"].upper()"
   ]
  },
  {
   "cell_type": "code",
   "execution_count": 16,
   "id": "4b29aef0-4f68-487c-9889-5e27d60db682",
   "metadata": {},
   "outputs": [
    {
     "data": {
      "text/plain": [
       "{'name': 'sk',\n",
       " 'email_id': 'sk@gmail.com',\n",
       " 'number': '9148726537',\n",
       " 'time': (5, 8, 0)}"
      ]
     },
     "execution_count": 16,
     "metadata": {},
     "output_type": "execute_result"
    }
   ],
   "source": [
    "d1"
   ]
  },
  {
   "cell_type": "code",
   "execution_count": 15,
   "id": "5bfe89f2-d146-41c1-916e-9342361d6a05",
   "metadata": {},
   "outputs": [
    {
     "data": {
      "text/plain": [
       "'sk'"
      ]
     },
     "execution_count": 15,
     "metadata": {},
     "output_type": "execute_result"
    }
   ],
   "source": [
    "d1[\"name\"]"
   ]
  },
  {
   "cell_type": "code",
   "execution_count": 17,
   "id": "addd2db8-607a-43ab-94ff-3eb38b3bfb24",
   "metadata": {},
   "outputs": [
    {
     "data": {
      "text/plain": [
       "{'name': 'sk',\n",
       " 'email_id': 'sk@gmail.com',\n",
       " 'number': '9148726537',\n",
       " 'time': (5, 8, 0)}"
      ]
     },
     "execution_count": 17,
     "metadata": {},
     "output_type": "execute_result"
    }
   ],
   "source": [
    "d1"
   ]
  },
  {
   "cell_type": "code",
   "execution_count": 18,
   "id": "7f06ec7a-3c2b-4886-9285-449ce45cbf2d",
   "metadata": {},
   "outputs": [
    {
     "data": {
      "text/plain": [
       "dict_keys(['name', 'email_id', 'number', 'time'])"
      ]
     },
     "execution_count": 18,
     "metadata": {},
     "output_type": "execute_result"
    }
   ],
   "source": [
    "d1.keys()"
   ]
  },
  {
   "cell_type": "code",
   "execution_count": 19,
   "id": "f52a2754-621c-4967-b178-2e62eebed2a1",
   "metadata": {},
   "outputs": [
    {
     "data": {
      "text/plain": [
       "['sk', 'sk@gmail.com', '9148726537', (5, 8, 0)]"
      ]
     },
     "execution_count": 19,
     "metadata": {},
     "output_type": "execute_result"
    }
   ],
   "source": [
    "list(d1.values())"
   ]
  },
  {
   "cell_type": "code",
   "execution_count": 20,
   "id": "569cf8f2-31c1-4380-a298-6f67a5c3290b",
   "metadata": {},
   "outputs": [
    {
     "data": {
      "text/plain": [
       "dict_items([('name', 'sk'), ('email_id', 'sk@gmail.com'), ('number', '9148726537'), ('time', (5, 8, 0))])"
      ]
     },
     "execution_count": 20,
     "metadata": {},
     "output_type": "execute_result"
    }
   ],
   "source": [
    "d1.items()"
   ]
  },
  {
   "cell_type": "code",
   "execution_count": 21,
   "id": "149150b9-f5a8-441d-b9e1-57f750d5a05c",
   "metadata": {},
   "outputs": [
    {
     "data": {
      "text/plain": [
       "[('name', 'sk'),\n",
       " ('email_id', 'sk@gmail.com'),\n",
       " ('number', '9148726537'),\n",
       " ('time', (5, 8, 0))]"
      ]
     },
     "execution_count": 21,
     "metadata": {},
     "output_type": "execute_result"
    }
   ],
   "source": [
    "list(d1.items())"
   ]
  },
  {
   "cell_type": "code",
   "execution_count": 24,
   "id": "1ad07464-76b7-4b5a-a2b0-ae7f5c70efff",
   "metadata": {},
   "outputs": [],
   "source": [
    "d2=d1.copy()\n"
   ]
  },
  {
   "cell_type": "code",
   "execution_count": 25,
   "id": "fe6136ac-7bb3-4fe8-b6a6-5b705c0c6f2e",
   "metadata": {},
   "outputs": [
    {
     "data": {
      "text/plain": [
       "{'name': 'sk',\n",
       " 'email_id': 'sk@gmail.com',\n",
       " 'number': '9148726537',\n",
       " 'time': (5, 8, 0)}"
      ]
     },
     "execution_count": 25,
     "metadata": {},
     "output_type": "execute_result"
    }
   ],
   "source": [
    "d2"
   ]
  },
  {
   "cell_type": "code",
   "execution_count": 26,
   "id": "0ea1ce53-fa9a-4e04-9b5b-ceb54848b0e2",
   "metadata": {},
   "outputs": [
    {
     "data": {
      "text/plain": [
       "(5, 8, 0)"
      ]
     },
     "execution_count": 26,
     "metadata": {},
     "output_type": "execute_result"
    }
   ],
   "source": [
    "d1.pop('time')"
   ]
  },
  {
   "cell_type": "code",
   "execution_count": 27,
   "id": "f099ee9e-537d-47bb-a6b2-267a0ff3b1ae",
   "metadata": {},
   "outputs": [
    {
     "data": {
      "text/plain": [
       "{'name': 'sk', 'email_id': 'sk@gmail.com', 'number': '9148726537'}"
      ]
     },
     "execution_count": 27,
     "metadata": {},
     "output_type": "execute_result"
    }
   ],
   "source": [
    "d1"
   ]
  },
  {
   "cell_type": "code",
   "execution_count": 28,
   "id": "29cb83a2-ead5-4ca6-ae4d-2446c837b034",
   "metadata": {},
   "outputs": [
    {
     "data": {
      "text/plain": [
       "{1: ('a', 'b', 'c'), 2: ('a', 'b', 'c'), 3: ('a', 'b', 'c')}"
      ]
     },
     "execution_count": 28,
     "metadata": {},
     "output_type": "execute_result"
    }
   ],
   "source": [
    "d.fromkeys((1,2,3),('a','b','c'))"
   ]
  },
  {
   "cell_type": "markdown",
   "id": "3bc133dc-0981-4416-b150-1c0f0f2d6786",
   "metadata": {},
   "source": [
    "Dictionary Comprehensions\n"
   ]
  },
  {
   "cell_type": "code",
   "execution_count": null,
   "id": "8718c2e8-bac8-439d-87a1-4432546e588b",
   "metadata": {},
   "outputs": [],
   "source": []
  }
 ],
 "metadata": {
  "kernelspec": {
   "display_name": "Python 3 (ipykernel)",
   "language": "python",
   "name": "python3"
  },
  "language_info": {
   "codemirror_mode": {
    "name": "ipython",
    "version": 3
   },
   "file_extension": ".py",
   "mimetype": "text/x-python",
   "name": "python",
   "nbconvert_exporter": "python",
   "pygments_lexer": "ipython3",
   "version": "3.10.8"
  }
 },
 "nbformat": 4,
 "nbformat_minor": 5
}
